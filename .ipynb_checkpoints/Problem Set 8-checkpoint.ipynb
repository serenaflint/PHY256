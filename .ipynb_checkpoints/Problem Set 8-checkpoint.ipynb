{
 "cells": [
  {
   "cell_type": "markdown",
   "metadata": {},
   "source": [
    "# Problem Set 8\n",
    "##### Serena Flint"
   ]
  },
  {
   "cell_type": "markdown",
   "metadata": {},
   "source": [
    "### Problem 1"
   ]
  },
  {
   "cell_type": "code",
   "execution_count": 41,
   "metadata": {},
   "outputs": [
    {
     "name": "stdout",
     "output_type": "stream",
     "text": [
      "Difference Routine: -5.6\n",
      "Difference using Energy Routines: 5.6\n",
      "Magnetization: 1.0\n"
     ]
    }
   ],
   "source": [
    "import numpy as np\n",
    "import matplotlib.pyplot as plt\n",
    "\n",
    "%matplotlib inline\n",
    "%config InlineBackend.figure_format = 'retina'\n",
    "\n",
    "#fills a 2D array with randomized +1s and -1s\n",
    "def random_arr(x_size, y_size):\n",
    "    arr = np.zeros((x_size, y_size))\n",
    "    for i in range (0, x_size):\n",
    "        for j in range(0, y_size):\n",
    "            rand = np.random.random()\n",
    "            if(rand>=0.5):\n",
    "                arr[i,j] = 1\n",
    "            else:\n",
    "                arr[i,j] = -1     \n",
    "    return arr\n",
    "\n",
    "#calculates total energy of spin array\n",
    "def total_energy(spins, J):\n",
    "    center = spins\n",
    "    up = np.roll(spins, +1, axis = 0)\n",
    "    right = np.roll(spins, +1, axis = 1)\n",
    "    arr_sum = up + right\n",
    "    arr_tsum = np.sum(arr_sum*center)\n",
    "    E = -J * arr_tsum\n",
    "    return E\n",
    "\n",
    "#flips the spin of the value at the specified indices\n",
    "def flip(spins, x_idx, y_idx):\n",
    "    temp = spins\n",
    "    temp[x_idx, y_idx] *= -1\n",
    "    return temp\n",
    "\n",
    "#calculates the energy difference when a single spin is flipped\n",
    "def difference(spins, x_idx, y_idx, J):\n",
    "    spins_1 = spins\n",
    "    center_1 = spins\n",
    "    #print(\"\\n\", center_1)\n",
    "    up_1 = np.roll(spins_1, +1, axis = 0)\n",
    "    right_1 = np.roll(spins_1, +1, axis = 1)\n",
    "    sum_1 = up_1 + right_1    \n",
    "    sum_1t = np.sum(sum_1*center_1)\n",
    "    E_1 = -J*sum_1t\n",
    "    \n",
    "    spins_2 = flip(spins_1, x_idx, y_idx)\n",
    "    center_2 = spins_2\n",
    "    #print(\"\\n\", center_2)\n",
    "    up_2 = np.roll(spins_2, +1, axis = 0)\n",
    "    right_2 = np.roll(spins_2, +1, axis = 1)\n",
    "    sum_1t = np.sum(sum_1*center_1)\n",
    "    sum_2 = up_2 + right_2\n",
    "    sum_2t = np.sum(sum_2*center_2)\n",
    "    E_2 = -J*sum_2t\n",
    "    \n",
    "    diff = E_1 - E_2\n",
    "    return diff\n",
    "    \n",
    "def magnetization(spins):\n",
    "    tot=np.sum(spins)\n",
    "    avg=tot/len(spins)\n",
    "    return avg\n",
    "    \n",
    "test_arr = random_arr(5,5)\n",
    "#print(test_arr)\n",
    "#print(flip(test_arr, 2,3))\n",
    "print(\"Difference Routine:\", difference(test_arr,2,3,+1.4))\n",
    "print(\"Difference using Energy Routines:\", (total_energy(test_arr, +1.4)) - (total_energy(flip(test_arr, 2, 3),+1.4)) )\n",
    "print(\"Magnetization:\", magnetization(test_arr))            "
   ]
  },
  {
   "cell_type": "markdown",
   "metadata": {},
   "source": [
    "#### Part 2"
   ]
  },
  {
   "cell_type": "code",
   "execution_count": 60,
   "metadata": {
    "scrolled": false
   },
   "outputs": [
    {
     "name": "stdout",
     "output_type": "stream",
     "text": [
      "this shouldn't happen\n",
      "Magnetization at 1 : 0.3333333333333333\n",
      "this shouldn't happen\n",
      "Magnetization at 2 : -0.3333333333333333\n",
      "this shouldn't happen\n",
      "Magnetization at 3 : 0.3333333333333333\n",
      "this shouldn't happen\n",
      "Magnetization at 4 : 1.0\n",
      "this shouldn't happen\n",
      "Magnetization at 5 : 0.3333333333333333\n",
      "this shouldn't happen\n",
      "Magnetization at 6 : -0.3333333333333333\n",
      "this shouldn't happen\n",
      "Magnetization at 7 : -1.0\n",
      "this shouldn't happen\n",
      "Magnetization at 8 : -1.6666666666666667\n",
      "this shouldn't happen\n",
      "Magnetization at 9 : -1.0\n",
      "[[-1.  1.  1.]\n",
      " [ 1. -1. -1.]\n",
      " [-1. -1. -1.]]\n"
     ]
    }
   ],
   "source": [
    "def rand_idx(spins):\n",
    "    x = np.random.randint(0,len(spins))\n",
    "    y = np.random.randint(0,len(spins[0]))\n",
    "    return x,y\n",
    "\n",
    "def metropolis(spins, J, T, kB):\n",
    "    length = len(spins)*len(spins[0])\n",
    "    count = 0\n",
    "    for i in range(0, length):\n",
    "        x_index, y_index = rand_idx(spins)\n",
    "        DE = difference(spins, x_index, y_index, J)\n",
    "\n",
    "        if(DE < 0):\n",
    "            new_arr = flip(spins, x_index, y_index)\n",
    "        if(DE > 0):\n",
    "            new_arr = spins\n",
    "            beta = 1.0/(kB*T)\n",
    "            rand = np.random.random()\n",
    "            prob = np.exp(-beta*DE)\n",
    "            if(DE < prob):\n",
    "                new_arr = flip(spins, x_index, y_index)\n",
    "        else:\n",
    "            print(\"this shouldn't happen\")\n",
    "            new_arr = spins\n",
    "        count += 1\n",
    "        print(\"Magnetization at\", count, \":\", magnetization(new_arr))\n",
    "        \n",
    "    return new_arr\n",
    "\n",
    "test = random_arr(3,3)\n",
    "J = 1\n",
    "kB = 1\n",
    "T = 0.5\n",
    "print(metropolis(test, J, T, kB))"
   ]
  },
  {
   "cell_type": "code",
   "execution_count": null,
   "metadata": {},
   "outputs": [],
   "source": []
  }
 ],
 "metadata": {
  "kernelspec": {
   "display_name": "Python 3",
   "language": "python",
   "name": "python3"
  },
  "language_info": {
   "codemirror_mode": {
    "name": "ipython",
    "version": 3
   },
   "file_extension": ".py",
   "mimetype": "text/x-python",
   "name": "python",
   "nbconvert_exporter": "python",
   "pygments_lexer": "ipython3",
   "version": "3.7.1"
  }
 },
 "nbformat": 4,
 "nbformat_minor": 2
}
