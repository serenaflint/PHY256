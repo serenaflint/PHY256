{
 "cells": [
  {
   "cell_type": "markdown",
   "metadata": {},
   "source": [
    "# Problem Set 1, PHY 256\n",
    "\n",
    "#### Serena Flint"
   ]
  },
  {
   "cell_type": "markdown",
   "metadata": {},
   "source": [
    "### Problem 1"
   ]
  },
  {
   "cell_type": "code",
   "execution_count": 19,
   "metadata": {
    "scrolled": true
   },
   "outputs": [
    {
     "name": "stdout",
     "output_type": "stream",
     "text": [
      "3.141592653589793\n"
     ]
    }
   ],
   "source": [
    "import numpy as np\n",
    "def sub(x):\n",
    "    twopi = 2.0*np.pi\n",
    "    return x%twopi\n",
    "\n",
    "print(sub(5*np.pi))"
   ]
  },
  {
   "cell_type": "markdown",
   "metadata": {},
   "source": [
    "The modulo operator (%) returns a value with the sign of the second value, whereas fmod is definted by C and returns the sign of the first value. The modulo operator also converts the arguments to a common type.\n",
    "\n",
    "Since the value of 2pi is a float, the result will be a float regardless of if the first argument is an integer. Likewise, inputting a negative number will still return a positive value since the second argument (2pi) is positive."
   ]
  },
  {
   "cell_type": "markdown",
   "metadata": {},
   "source": [
    "### Problem 2\n",
    "\n",
    "##### Range\n",
    "<ul>\n",
    "    <li>Built into Python, doesn't use numpy</li>\n",
    "    <li>Returns a list in Python 2 or \"range object\" in Python 3</li>\n",
    "    <li>Inclusive of start value, exclusive of stop value</li>\n",
    "    <li>Requires and returns integer types</li>\n",
    "</ul>   \n",
    "   \n",
    "##### Arange\n",
    "<ul>\n",
    "    <li>Returns array of evenly spaced values within a given interval</li>\n",
    "    <li>Inclusive of start value, exclusive of stop value</li>\n",
    "    <li>Returns an numpy array rather than a list</li>\n",
    "    <li>Typically uses and returns integer types</li>\n",
    "    <li>Non-integer types produce inconsistent results</li>\n",
    " </ul>\n",
    "\n",
    "##### Zeros\n",
    "<ul>\n",
    "    <li>Returns an array of a given dimension and type filled with zeros</li>\n",
    "    <li>Can return specified types, such as ints</li>\n",
    "</ul>\n",
    "\n",
    "##### Linspace\n",
    "<ul>\n",
    "    <li>Returns an array of evenly spaced numbers over a specified interval and step value </li>\n",
    "    <li>Start value and stop value are both inclusive, stop value can be optionally excluded</li>\n",
    "    <li>Can accept non-integer values and steps</li>\n",
    "    <li>Can return integers if specified, but innacurate</li>\n",
    "    <li>More consistent than numpy.arange with non-integer steps</li>\n",
    "</ul>"
   ]
  },
  {
   "cell_type": "code",
   "execution_count": 31,
   "metadata": {},
   "outputs": [
    {
     "name": "stdout",
     "output_type": "stream",
     "text": [
      "[ 0.    0.01  0.02 ...  9.98  9.99 10.  ]\n",
      "[0.         0.01       0.02       ... 3.69681469 3.70681469 3.71681469]\n"
     ]
    }
   ],
   "source": [
    "a = np.arange(0.,10.01, 0.01)\n",
    "print(a) #original array\n",
    "\n",
    "print(sub(a)) #array after passed into 2pi function"
   ]
  },
  {
   "cell_type": "markdown",
   "metadata": {},
   "source": [
    "### Problem 3"
   ]
  },
  {
   "cell_type": "code",
   "execution_count": 24,
   "metadata": {},
   "outputs": [
    {
     "name": "stdout",
     "output_type": "stream",
     "text": [
      "[[1 2 3]\n",
      " [4 5 6]] \n",
      "\n",
      "Indices with value 3: a[0, 2]\n",
      "Test:  3\n"
     ]
    }
   ],
   "source": [
    "a = np.array([[1,2,3],[4,5,6]])\n",
    "print(a,'\\n')\n",
    "\n",
    "print('Indices with value 3: a[0, 2]')\n",
    "print('Test: ', a[0,2])"
   ]
  },
  {
   "cell_type": "markdown",
   "metadata": {},
   "source": [
    "One of the main differences between matricies and arrays is that matricites are exclusively two-dimensional whereas arrays can be n-dimensional. Numpy also has methods to support matrix multiplication."
   ]
  },
  {
   "cell_type": "markdown",
   "metadata": {},
   "source": [
    "### Problem 4"
   ]
  },
  {
   "cell_type": "code",
   "execution_count": 25,
   "metadata": {},
   "outputs": [
    {
     "name": "stdout",
     "output_type": "stream",
     "text": [
      "ast_000024.txt\n"
     ]
    }
   ],
   "source": [
    "def text_format(pref, suf, num):\n",
    "    n = '{:0>6d}'.format(num) #makes sure there are 6 digits before the decimal, pads with 0s\n",
    "    file = pref + n + suf\n",
    "    return file\n",
    "\n",
    "print(text_format('ast_', '.txt', 24))"
   ]
  },
  {
   "cell_type": "markdown",
   "metadata": {},
   "source": [
    "### Problem 5"
   ]
  },
  {
   "cell_type": "code",
   "execution_count": 76,
   "metadata": {
    "scrolled": true
   },
   "outputs": [
    {
     "data": {
      "text/plain": [
       "Text(0, 0.5, '$f(x), f(f(x)), x$')"
      ]
     },
     "execution_count": 76,
     "metadata": {},
     "output_type": "execute_result"
    },
    {
     "data": {
      "image/png": "[encoded data removed]",
      "text/plain": [
       "<Figure size 432x288 with 1 Axes>"
      ]
     },
     "metadata": {
      "needs_background": "light"
     },
     "output_type": "display_data"
    }
   ],
   "source": [
    "%matplotlib inline\n",
    "from matplotlib import pyplot as plt\n",
    "\n",
    "x = np.linspace(0,1,101)\n",
    "mu = 4\n",
    "\n",
    "y1 = mu*(x**3)*(1-x**3)\n",
    "y2 = mu*(y1**3)*(1-y1**3)\n",
    "\n",
    "plt.plot(x, y1, 'g-')\n",
    "plt.plot(x, y2, 'b-')\n",
    "plt.plot(x,x, 'k-')\n",
    "plt.xlabel('x')\n",
    "plt.ylabel('$f(x), f(f(x)), x$')"
   ]
  },
  {
   "cell_type": "markdown",
   "metadata": {},
   "source": [
    "It appears through grapical analysis that this function has two peaks when the value of $\\mu$ is greater than $2^{5/3}$."
   ]
  },
  {
   "cell_type": "markdown",
   "metadata": {},
   "source": [
    "### Problem 6"
   ]
  },
  {
   "cell_type": "code",
   "execution_count": 165,
   "metadata": {
    "scrolled": true
   },
   "outputs": [
    {
     "data": {
      "text/plain": [
       "Text(0, 0.5, '$f(g(x))$')"
      ]
     },
     "execution_count": 165,
     "metadata": {},
     "output_type": "execute_result"
    },
    {
     "data": {
      "image/png": "[encoded data removed]",
      "text/plain": [
       "<Figure size 432x288 with 1 Axes>"
      ]
     },
     "metadata": {
      "needs_background": "light"
     },
     "output_type": "display_data"
    }
   ],
   "source": [
    "def f(x):\n",
    "    return np.sin(x);\n",
    "def g(x):\n",
    "    return 10*(x**2)*np.exp(-x);\n",
    "\n",
    "def func(f, g):\n",
    "    return lambda x: f(g(x)); #returns anonymous function\n",
    "\n",
    "x = np.linspace(0,4*np.pi, 200)\n",
    "\n",
    "y = func(f, g)\n",
    "\n",
    "plt.plot(x, y(x), 'b-')\n",
    "plt.xlabel('x')\n",
    "plt.ylabel('$f(g(x))$')"
   ]
  },
  {
   "cell_type": "markdown",
   "metadata": {},
   "source": [
    "### Problem 7"
   ]
  },
  {
   "cell_type": "code",
   "execution_count": 167,
   "metadata": {},
   "outputs": [
    {
     "name": "stdout",
     "output_type": "stream",
     "text": [
      "My function:        1.2470314223084482\n",
      "Built-in function:  1.2470314223172534\n"
     ]
    }
   ],
   "source": [
    "import math\n",
    "import scipy\n",
    "\n",
    "def zeta(s):\n",
    "\n",
    "    a = np.arange(1, 10**6, 1) #higher exponent on 10**n leads to higher accurancy, but slower computation\n",
    "    b = 1/a**s\n",
    "    return (math.fsum(b))\n",
    "\n",
    "print(\"My function:       \", zeta(2.8))\n",
    "\n",
    "print(\"Built-in function: \", scipy.special.zeta(2.8))"
   ]
  },
  {
   "cell_type": "markdown",
   "metadata": {},
   "source": [
    "It is difficult to compute the Reiman zeta function with the series for $s$ near, but above 1 because the function takes significantly longer to converge. As s goes towards 1 from the right, the resulting value gets significantly larger and goes towards infinity."
   ]
  }
 ],
 "metadata": {
  "kernelspec": {
   "display_name": "Python 3",
   "language": "python",
   "name": "python3"
  },
  "language_info": {
   "codemirror_mode": {
    "name": "ipython",
    "version": 3
   },
   "file_extension": ".py",
   "mimetype": "text/x-python",
   "name": "python",
   "nbconvert_exporter": "python",
   "pygments_lexer": "ipython3",
   "version": "3.7.1"
  }
 },
 "nbformat": 4,
 "nbformat_minor": 2
}
